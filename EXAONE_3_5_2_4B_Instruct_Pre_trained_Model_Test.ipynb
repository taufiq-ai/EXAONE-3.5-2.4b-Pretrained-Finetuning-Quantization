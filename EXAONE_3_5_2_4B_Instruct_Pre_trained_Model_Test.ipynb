{
  "metadata": {
    "kernelspec": {
      "language": "python",
      "display_name": "Python 3",
      "name": "python3"
    },
    "language_info": {
      "name": "python",
      "version": "3.10.12",
      "mimetype": "text/x-python",
      "codemirror_mode": {
        "name": "ipython",
        "version": 3
      },
      "pygments_lexer": "ipython3",
      "nbconvert_exporter": "python",
      "file_extension": ".py"
    },
    "kaggle": {
      "accelerator": "gpu",
      "dataSources": [],
      "dockerImageVersionId": 30823,
      "isInternetEnabled": true,
      "language": "python",
      "sourceType": "notebook",
      "isGpuEnabled": true
    },
    "colab": {
      "name": "EXAONE-3.5-2.4B-Instruct Pre-trained Model Test",
      "provenance": [],
      "include_colab_link": true
    }
  },
  "nbformat_minor": 0,
  "nbformat": 4,
  "cells": [
    {
      "cell_type": "markdown",
      "metadata": {
        "id": "view-in-github",
        "colab_type": "text"
      },
      "source": [
        "<a href=\"https://colab.research.google.com/github/taufiq-ai/EXAONE-3.5-2.4b-Pretrained-Finetuning-Quantization/blob/main/EXAONE_3_5_2_4B_Instruct_Pre_trained_Model_Test.ipynb\" target=\"_parent\"><img src=\"https://colab.research.google.com/assets/colab-badge.svg\" alt=\"Open In Colab\"/></a>"
      ]
    },
    {
      "cell_type": "code",
      "source": [
        "! pip install torch transformers huggingface_hub"
      ],
      "metadata": {
        "trusted": true,
        "execution": {
          "iopub.status.busy": "2024-12-29T05:38:11.644987Z",
          "iopub.execute_input": "2024-12-29T05:38:11.645297Z",
          "iopub.status.idle": "2024-12-29T05:38:16.164341Z",
          "shell.execute_reply.started": "2024-12-29T05:38:11.645272Z",
          "shell.execute_reply": "2024-12-29T05:38:16.163485Z"
        },
        "id": "yZMebIHWcrq9"
      },
      "outputs": [],
      "execution_count": null
    },
    {
      "cell_type": "code",
      "source": [
        "import warnings\n",
        "import tiktoken\n",
        "from bs4 import BeautifulSoup\n",
        "from huggingface_hub import login\n",
        "from kaggle_secrets import UserSecretsClient\n",
        "\n",
        "from torch import bfloat16\n",
        "from transformers import AutoModelForCausalLM, AutoTokenizer"
      ],
      "metadata": {
        "trusted": true,
        "execution": {
          "iopub.status.busy": "2024-12-29T05:38:16.165402Z",
          "iopub.execute_input": "2024-12-29T05:38:16.165698Z",
          "iopub.status.idle": "2024-12-29T05:38:20.167873Z",
          "shell.execute_reply.started": "2024-12-29T05:38:16.165666Z",
          "shell.execute_reply": "2024-12-29T05:38:20.16716Z"
        },
        "id": "oPuB2d4ocrq_"
      },
      "outputs": [],
      "execution_count": null
    },
    {
      "cell_type": "code",
      "source": [
        "warnings.filterwarnings(\"ignore\", category=RuntimeWarning)\n",
        "user_secrets = UserSecretsClient()\n",
        "HF_TOKEN = user_secrets.get_secret(\"HF_TOKEN\") # HF_TOKEN=\"<Your_HuggingFace_Access_Token>\" (https://huggingface.co/settings/tokens)\n",
        "login(HF_TOKEN)"
      ],
      "metadata": {
        "trusted": true,
        "execution": {
          "iopub.status.busy": "2024-12-29T05:38:20.180286Z",
          "iopub.execute_input": "2024-12-29T05:38:20.180795Z",
          "iopub.status.idle": "2024-12-29T05:38:20.36037Z",
          "shell.execute_reply.started": "2024-12-29T05:38:20.180758Z",
          "shell.execute_reply": "2024-12-29T05:38:20.359505Z"
        },
        "id": "wvXvcN-UcrrA"
      },
      "outputs": [],
      "execution_count": null
    },
    {
      "cell_type": "code",
      "source": [
        "def count_token(string: str, encoding_name: str=\"gpt-4o\") -> int:\n",
        "    \"\"\"Returns the number of tokens in a text string.\"\"\"\n",
        "    encoding = tiktoken.encoding_for_model(\"gpt-4o-mini\")\n",
        "    num_tokens = len(encoding.encode(string))\n",
        "    return num_tokens\n",
        "\n",
        "# If you generate HTML\n",
        "def prettify_html(content):\n",
        "    html = content.replace(\"\\n\",\" \").replace(\"```\", \"\")\n",
        "    soup = BeautifulSoup(html, 'html.parser')\n",
        "    pretty_html = soup.prettify()\n",
        "    return pretty_html"
      ],
      "metadata": {
        "trusted": true,
        "execution": {
          "iopub.status.busy": "2024-12-29T05:51:46.660455Z",
          "iopub.execute_input": "2024-12-29T05:51:46.660767Z",
          "iopub.status.idle": "2024-12-29T05:51:46.665415Z",
          "shell.execute_reply.started": "2024-12-29T05:51:46.660743Z",
          "shell.execute_reply": "2024-12-29T05:51:46.664546Z"
        },
        "id": "4dmBArbncrrA"
      },
      "outputs": [],
      "execution_count": null
    },
    {
      "cell_type": "code",
      "source": [
        "def setup_model(\n",
        "    model_name_or_local_path:str=\"LGAI-EXAONE/EXAONE-3.5-2.4B-Instruct\",\n",
        "    device=\"auto\",\n",
        "):\n",
        "    tokenizer = AutoTokenizer.from_pretrained(model_name_or_local_path)\n",
        "    model = AutoModelForCausalLM.from_pretrained(\n",
        "        model_name_or_local_path,\n",
        "        torch_dtype=bfloat16,\n",
        "        trust_remote_code=True,\n",
        "        device_map=device,\n",
        "    )\n",
        "    return model, tokenizer\n",
        "\n",
        "\n",
        "def inference(prompt, tokenizer, model, max_tokens=200, device=\"cuda\"):\n",
        "    if type(prompt)==str:\n",
        "        messages = [\n",
        "            {\"role\": \"system\",\n",
        "             \"content\": \"You are a helpful e-commerce customer support chatbot.\"},\n",
        "            {\"role\": \"user\", \"content\": prompt}\n",
        "        ]\n",
        "    else: messages=prompt\n",
        "\n",
        "    input_ids = tokenizer.apply_chat_template(\n",
        "        messages,\n",
        "        tokenize=True,\n",
        "        add_generation_prompt=True,\n",
        "        return_tensors=\"pt\"\n",
        "    )\n",
        "\n",
        "    output = model.generate(\n",
        "        input_ids.to(device),\n",
        "        eos_token_id=tokenizer.eos_token_id,\n",
        "        max_new_tokens=max_tokens,\n",
        "        do_sample=False,\n",
        "    )\n",
        "    completion = tokenizer.decode(output[0])\n",
        "    content = completion.split(\"[|assistant|]\")[-1].split(\"[|endofturn|]\")[0]\n",
        "    return completion, content"
      ],
      "metadata": {
        "_uuid": "8f2839f25d086af736a60e9eeb907d3b93b6e0e5",
        "_cell_guid": "b1076dfc-b9ad-4769-8c92-a6c4dae69d19",
        "trusted": true,
        "execution": {
          "iopub.status.busy": "2024-12-29T05:38:25.910574Z",
          "iopub.execute_input": "2024-12-29T05:38:25.910906Z",
          "iopub.status.idle": "2024-12-29T05:38:25.916879Z",
          "shell.execute_reply.started": "2024-12-29T05:38:25.910877Z",
          "shell.execute_reply": "2024-12-29T05:38:25.916028Z"
        },
        "id": "-X59vOZscrrB"
      },
      "outputs": [],
      "execution_count": null
    },
    {
      "cell_type": "code",
      "source": [
        "model, tokenizer = setup_model()"
      ],
      "metadata": {
        "trusted": true,
        "execution": {
          "iopub.status.busy": "2024-12-29T05:38:29.048253Z",
          "iopub.execute_input": "2024-12-29T05:38:29.048538Z",
          "iopub.status.idle": "2024-12-29T05:42:24.746677Z",
          "shell.execute_reply.started": "2024-12-29T05:38:29.048516Z",
          "shell.execute_reply": "2024-12-29T05:42:24.745974Z"
        },
        "id": "PJm6gXrLcrrC"
      },
      "outputs": [],
      "execution_count": null
    },
    {
      "cell_type": "markdown",
      "source": [
        "## Named Entity Recognition (NER)"
      ],
      "metadata": {
        "id": "l8Mlr6DpcrrC"
      }
    },
    {
      "cell_type": "code",
      "source": [
        "prompt_ner = \"\"\"Task: Named Entity Recognition (NER)\n",
        "Given a text, for NER. You have to extract name, company, location. Please return the NER in a JSON object.\n",
        "Example output: {\"name\":\"<name>\", \"location\":\"<location>\", \"company\":\"<company>\", \"summary\":\"<5-10 words summary>\"}\n",
        "Follow the example output format strictly, and do not write any extra speech and sign other than the expected output.\n",
        "If any entity is not present, write as empty string (\"\").\n",
        "\n",
        "Text: \"OpenAI's board of directors fired co-founder and CEO Sam Altman on November 17, 2024. The board said it had no confidence in Altman's leadership due to concerns about his handling of AI safety and allegations of abusive behavior. The board also said that Altman was not consistently candid in his communications with them.\"\n",
        "\"\"\"\n",
        "completion, content = inference(prompt=prompt_ner, tokenizer=tokenizer, model=model)\n",
        "content"
      ],
      "metadata": {
        "trusted": true,
        "execution": {
          "iopub.status.busy": "2024-12-29T05:44:21.99369Z",
          "iopub.execute_input": "2024-12-29T05:44:21.994204Z",
          "iopub.status.idle": "2024-12-29T05:44:24.598347Z",
          "shell.execute_reply.started": "2024-12-29T05:44:21.994176Z",
          "shell.execute_reply": "2024-12-29T05:44:24.597611Z"
        },
        "id": "VeUiz6tCcrrE"
      },
      "outputs": [],
      "execution_count": null
    },
    {
      "cell_type": "markdown",
      "source": [
        "## Classification"
      ],
      "metadata": {
        "id": "HT64Rh_CcrrE"
      }
    },
    {
      "cell_type": "code",
      "source": [
        "prompt_cls = \"\"\"TASK: chat text classification. You classify the chat text send by customers.\n",
        "Baased on your classification the system will call RAG agent or skip. Classify the text into ['rag', 'skip', 'admin'] with confidence 0 - 1.\n",
        "'admin'means: The user want make some change in order and an admin require to complete it.\n",
        "'rag' means: to answer the query system need to retrieve info from vector db.\n",
        "'skip' means: it is a general text such as greetings or slang and no need to call rag agent.\n",
        "Return result as JSON object.\n",
        "Example output: {\"class\": \"admin\", \"confidence\":{\"rag\":0.3, \"skip\":0.3, \"admin\":0.4}}\n",
        "Follow the example output format strictly and do not write any extra speech and sign other than the expected output.\n",
        "Text: \"change my delivery location to B78 Silk Road, Dhaka.\"\n",
        "\"\"\"\n",
        "completion, content = inference(prompt=prompt_cls, tokenizer=tokenizer, model=model)\n",
        "content\n"
      ],
      "metadata": {
        "trusted": true,
        "execution": {
          "iopub.status.busy": "2024-12-29T05:44:48.382843Z",
          "iopub.execute_input": "2024-12-29T05:44:48.383362Z",
          "iopub.status.idle": "2024-12-29T05:44:50.011746Z",
          "shell.execute_reply.started": "2024-12-29T05:44:48.383334Z",
          "shell.execute_reply": "2024-12-29T05:44:50.011017Z"
        },
        "id": "ajqQcZ9EcrrF"
      },
      "outputs": [],
      "execution_count": null
    },
    {
      "cell_type": "markdown",
      "source": [
        "## Code Generation"
      ],
      "metadata": {
        "id": "e2Kcr-VQcrrF"
      }
    },
    {
      "cell_type": "code",
      "source": [
        "prompt_code = \"\"\"Task: Django shell db filter code generation.\n",
        "Given a NER json, you have to write python script to filter objects from a db table.\n",
        "You have to filter based on the following field names [username, company, date, id, location] from the table 'Person'.\n",
        "Given NER below, add filtering items to the generated code which is present on the NER, skip others.\n",
        "example output: 'Person.objects.filter(username=\"<given_name>\", company=\"<company>\", id=\"<given_uuid\", date=\"<given_datetime>\")'\n",
        "If a field name is not present in the NER then do not add that field in the generated python script.mandaatory.\n",
        "such as given NER: '```json\\n{\"name\": \"Jorex Devin\", \"company\": \"Lexicon\", id: \"4546464646464htyhgtyyht\"}\\n```'then the output will be 'Person.objects.filter(username=\"Jorex Devin\", company=\"Lexicon\", id=\"4546464646464htyhgtyyht\")';\n",
        "Follow the example output format strictly and do not write any extra speech and sign other than the expected output.\n",
        "\n",
        "\n",
        "Given NER: '```json\\n{\"name\": \"Hossain Shikder\", \"company\": \"Sony\", \"location\": \"Macau\"}\\n```'\n",
        "\"\"\"\n",
        "completion, content = inference(prompt=prompt_code, tokenizer=tokenizer, model=model)\n",
        "content"
      ],
      "metadata": {
        "trusted": true,
        "execution": {
          "iopub.status.busy": "2024-12-29T05:44:58.863793Z",
          "iopub.execute_input": "2024-12-29T05:44:58.864215Z",
          "iopub.status.idle": "2024-12-29T05:45:00.440125Z",
          "shell.execute_reply.started": "2024-12-29T05:44:58.864181Z",
          "shell.execute_reply": "2024-12-29T05:45:00.43938Z"
        },
        "id": "VuVTnkuLcrrG"
      },
      "outputs": [],
      "execution_count": null
    },
    {
      "cell_type": "code",
      "source": [
        "prompt_html = \"\"\"Task: Html Code Generation.\n",
        "Write an html table to compare gpt-4 and claude-3. Also add a concise comparison inside the table.\n",
        "Please do not write any extra speech other thand the expected output.\n",
        "\"\"\"\n",
        "completion, content = inference(prompt=prompt_html, tokenizer=tokenizer, model=model, max_tokens=600)\n",
        "content"
      ],
      "metadata": {
        "trusted": true,
        "execution": {
          "iopub.status.busy": "2024-12-29T05:45:25.968167Z",
          "iopub.execute_input": "2024-12-29T05:45:25.968493Z",
          "iopub.status.idle": "2024-12-29T05:45:41.14925Z",
          "shell.execute_reply.started": "2024-12-29T05:45:25.968464Z",
          "shell.execute_reply": "2024-12-29T05:45:41.148408Z"
        },
        "id": "Zk61uvmscrrG"
      },
      "outputs": [],
      "execution_count": null
    },
    {
      "cell_type": "markdown",
      "source": [
        "**Snap of table view (cleaned)**\n",
        "\n",
        "![image.png](attachment:44a70144-8b57-4a7a-93fb-d9cdec6b9d21.png)"
      ],
      "metadata": {
        "id": "0tCBtZyEcrrH"
      }
    },
    {
      "cell_type": "markdown",
      "source": [
        "## Q&A"
      ],
      "metadata": {
        "id": "OQ4gbx8YcrrH"
      }
    },
    {
      "cell_type": "code",
      "source": [
        "completion, content = inference(prompt=\"Who won the 2024 US Election?\", tokenizer=tokenizer, model=model)\n",
        "content"
      ],
      "metadata": {
        "trusted": true,
        "execution": {
          "iopub.status.busy": "2024-12-29T05:54:48.152791Z",
          "iopub.execute_input": "2024-12-29T05:54:48.153163Z",
          "iopub.status.idle": "2024-12-29T05:54:54.304518Z",
          "shell.execute_reply.started": "2024-12-29T05:54:48.153134Z",
          "shell.execute_reply": "2024-12-29T05:54:54.303778Z"
        },
        "id": "NKG7KS_8crrH"
      },
      "outputs": [],
      "execution_count": null
    },
    {
      "cell_type": "code",
      "source": [
        "completion, content = inference(prompt=\"Who is the prime minister of Bangladesh?\", tokenizer=tokenizer, model=model)\n",
        "content"
      ],
      "metadata": {
        "trusted": true,
        "execution": {
          "iopub.status.busy": "2024-12-29T05:54:57.785464Z",
          "iopub.execute_input": "2024-12-29T05:54:57.785773Z",
          "iopub.status.idle": "2024-12-29T05:55:00.452788Z",
          "shell.execute_reply.started": "2024-12-29T05:54:57.785748Z",
          "shell.execute_reply": "2024-12-29T05:55:00.451903Z"
        },
        "id": "BK7b4_DIcrrI"
      },
      "outputs": [],
      "execution_count": null
    },
    {
      "cell_type": "markdown",
      "source": [
        "## Summarization"
      ],
      "metadata": {
        "id": "1wOvKRUJcrrI"
      }
    },
    {
      "cell_type": "code",
      "source": [
        "prompt_summary = \"\"\"TASK: Text Summarization\n",
        "Given a text below. Summarize the text within 10-50 words.\n",
        "\n",
        "Text: \"OpenAI CEO and co-founder Sam Altman has been reinstated to the firm’s board of directors following an outside investigation into the turmoil that led the company to abruptly fire and rehire him in November.\n",
        "\n",
        "OpenAI said the investigation by the law firm WilmerHale concluded that Altman’s ouster had been a “consequence of a breakdown in the relationship and loss of trust” between Altman and the prior board and that the CEO’s conduct “did not mandate removal”.\n",
        "\n",
        "OpenAI Holds Its First Developer Conference<br>SAN FRANCISCO, CALIFORNIA - NOVEMBER 06: Microsoft CEO Satya Nadella (R) speaks as OpenAI CEO Sam Altman (L) looks on during the OpenAI DevDay event on November 06, 2023 in San Francisco, California. Altman delivered the keynote address at the first ever Open AI DevDay conference. (Photo by Justin Sullivan/Getty Images)\n",
        "Microsoft asks to dismiss New York Times’s ‘doomsday’ copyright lawsuit\n",
        "Read more\n",
        "For more than three months, OpenAI said little about what led its then board of directors to fire Altman on 17 November. In a statement at the time, the board accused Altman of not being “consistently candid in his communications”, adding that it “no longer had confidence in his ability to lead”. Less than a week later he was reinstated as CEO after many at the company threatened to resign unless he returned to his role, including board chair Greg Brockman, who responded to the ouster by quitting his job as the company’s president.\n",
        "\n",
        "In addition to sharing the results of the investigation, the ChatGPT maker announced has added three women to its board of directors: Sue Desmond-Hellmann, a former CEO of the Bill & Melinda Gates Foundation; Nicole Seligman, a former Sony general counsel; and Instacart CEO Fidji Simo.\n",
        "\n",
        "The actions are a way for the San Francisco-based artificial intelligence company to show investors and customers that it is trying to move past the internal conflicts that nearly destroyed it last year and made global headlines.\n",
        "\n",
        "Much of OpenAI’s conflicts are rooted in its unusual governance structure. Founded as a non-profit with a mission to safely build futuristic AI that helps humanity, it is now a fast-growing big business still controlled by a non-profit board bound to its original mission.\n",
        "\n",
        "An investigation released by the New York Times on Thursday shed light on conditions within the company leading up to Altman’s ousting, stating that OpenAI’s chief technology officer Mira Murati had called into question the CEO’s management style. OpenAI co-founder and chief scientist Ilya Sutskever reportedly raised similar concerns about Altman’s alleged “history of manipulative behavior”.\n",
        "\n",
        "Altman alluded to such allegations in a call with reporters on Friday, stating that he had been disheartened to see people leaking information to try to “pit us against each other” and demoralize the team. At the same time, he said he had learned from the experience and apologized for a dispute with a former board member he could have handled “with more grace and care”.\n",
        "\n",
        "“I’m pleased this whole thing is over,” he said.\n",
        "\n",
        "The investigation found that the prior board had acted within its discretion. But it also determined that Altman’s “conduct did not mandate removal”, OpenAI said. It said both Altman and Brockman remained the right leaders for the company.\n",
        "\n",
        "“The review concluded there was a significant breakdown in trust between the prior board, and Sam and Greg,” Bret Taylor, the board’s chair, told reporters on Friday. “And similarly concluded that the board acted in good faith, that the board believed at the time that actions would mitigate some of the challenges that it perceived and didn’t anticipate some of the instability.”\n",
        "\n",
        "Days after his surprise ouster, Altman and his supporters – with backing from most of OpenAI’s workforce and close business partner Microsoft – helped orchestrate a comeback that brought Altman and Brockman back to their executive roles and forced out board members Tasha McCauley, Helen Toner and Ilya Sutskever, though the latter kept his job as chief scientist.\n",
        "\n",
        "Altman and Brockman did not regain their board seats at that time. But an “initial” new board of three men was formed, led by Taylor, a former Salesforce and Facebook executive who also chaired Twitter’s board before Elon Musk took over the platform. The others were the former US treasury secretary Larry Summers and the Quora CEO, Adam D’Angelo, the only member of the previous board to stay on.\n",
        "\n",
        "OpenAI had retained the law firm WilmerHale to investigate the events that led to Altman’s ouster. During the investigation, OpenAI said, WilmerHale conducted dozens of interviews with the company’s previous board, current executives, advisers and other witnesses. The company also said the law firm reviewed thousands of documents and other corporate actions.\n",
        "\n",
        "The board said it will also be making “improvements” to the company’s governance structure. It said it will adopt new corporate governance guidelines, strengthen the company’s policies around conflicts of interest, create a whistleblower hotline that will allow employees and contractors to submit anonymous reports and establish additional board committees.\n",
        "\n",
        "The company still has other troubles to contend with, including a lawsuit filed by the billionaire Elon Musk, who helped bankroll the early years of OpenAI and was a co-chair of its board after its 2015 founding. Musk alleges that the company is betraying its founding mission in pursuit of profits.\n",
        "\n",
        "Legal experts have expressed doubt about whether Musk’s arguments, centered on an alleged breach of contract, will hold up in court.\n",
        "\n",
        "But it has already forced open the company’s internal conflicts about its unusual governance structure, how “open” it should be about its research and how to pursue what’s known as artificial general intelligence, or AI systems that can perform just as well as – or even better than – humans in a wide variety of tasks.\n",
        "\n",
        "OpenAI and Microsoft have also been sued by a range of news outlets, including the New York Times, the Intercept, AlertNet and Raw Story over allegations that their generative artificial intelligence products violated copyright laws.\"\n",
        "\"\"\"\n",
        "\n",
        "completion, content = inference(prompt=prompt_summary, tokenizer=tokenizer, model=model)\n",
        "content"
      ],
      "metadata": {
        "trusted": true,
        "execution": {
          "iopub.status.busy": "2024-12-29T05:55:05.785413Z",
          "iopub.execute_input": "2024-12-29T05:55:05.785746Z",
          "iopub.status.idle": "2024-12-29T05:55:09.119731Z",
          "shell.execute_reply.started": "2024-12-29T05:55:05.785718Z",
          "shell.execute_reply": "2024-12-29T05:55:09.118962Z"
        },
        "id": "Df1eS4vjcrrI"
      },
      "outputs": [],
      "execution_count": null
    },
    {
      "cell_type": "markdown",
      "source": [
        "## Text Generation"
      ],
      "metadata": {
        "id": "wFkJ0DKTcrrJ"
      }
    },
    {
      "cell_type": "code",
      "source": [
        "prompt_title = \"\"\"Task: Title Generation. Given few keywords, generate 5 titles based on these and return as a list inside JSON.\n",
        "example output: {\"titles\":[<5 titles>]}\n",
        "Keywords: ['gardening', 'asparagas']\n",
        "\"\"\"\n",
        "completion, content = inference(prompt=prompt_title, tokenizer=tokenizer, model=model)\n",
        "content"
      ],
      "metadata": {
        "trusted": true,
        "execution": {
          "iopub.status.busy": "2024-12-29T05:55:39.713753Z",
          "iopub.execute_input": "2024-12-29T05:55:39.714103Z",
          "iopub.status.idle": "2024-12-29T05:55:43.156908Z",
          "shell.execute_reply.started": "2024-12-29T05:55:39.714061Z",
          "shell.execute_reply": "2024-12-29T05:55:43.156204Z"
        },
        "id": "h1O_qgrZcrrK"
      },
      "outputs": [],
      "execution_count": null
    },
    {
      "cell_type": "code",
      "source": [
        "prompt_article = \"\"\"Task: Long Blog Article Generation.\n",
        "\n",
        "Given a title. Write a large blog article with 1000 words based on the title.\n",
        "Add multiple heading and subheadings.\n",
        "Feel free to add multiple paragraphs, list, tables, quotes in the content.\n",
        "\n",
        "Format the article with Markdown.\n",
        "\n",
        "title: 'Grow Your Green Thumb: Asparagus Harvest Guide'\n",
        "\"\"\"\n",
        "\n",
        "completion, content = inference(\n",
        "    prompt=prompt_article,\n",
        "    max_tokens=1500,\n",
        "    tokenizer=tokenizer,\n",
        "    model=model\n",
        ")\n",
        "print(f\"generated tokens: {count_token(content)}, generated words: {len(content.split())}\")"
      ],
      "metadata": {
        "trusted": true,
        "execution": {
          "iopub.status.busy": "2024-12-24T23:04:06.309791Z",
          "iopub.execute_input": "2024-12-24T23:04:06.310145Z",
          "iopub.status.idle": "2024-12-24T23:04:48.851208Z",
          "shell.execute_reply.started": "2024-12-24T23:04:06.310116Z",
          "shell.execute_reply": "2024-12-24T23:04:48.850435Z"
        },
        "id": "CkYA2xyIcrrK"
      },
      "outputs": [],
      "execution_count": null
    },
    {
      "cell_type": "code",
      "source": [
        "content"
      ],
      "metadata": {
        "trusted": true,
        "execution": {
          "iopub.status.busy": "2024-12-24T23:06:56.364242Z",
          "iopub.execute_input": "2024-12-24T23:06:56.364551Z",
          "iopub.status.idle": "2024-12-24T23:06:56.369478Z",
          "shell.execute_reply.started": "2024-12-24T23:06:56.36453Z",
          "shell.execute_reply": "2024-12-24T23:06:56.368768Z"
        },
        "id": "CJTcSZVFcrrL"
      },
      "outputs": [],
      "execution_count": null
    },
    {
      "cell_type": "markdown",
      "source": [
        "👉 **The Output has been pretified using Claude.AI**\n",
        "\n",
        "# Grow Your Green Thumb: Asparagus Harvest Guide\n",
        "\n",
        "Asparagus, often hailed as a culinary delicacy and a symbol of springtime freshness, offers gardeners and home cooks alike a delightful experience when grown properly. Whether you're a seasoned gardener or just starting out, understanding when and how to harvest asparagus can significantly enhance your yield and enjoyment of this versatile vegetable. This comprehensive guide will walk you through everything you need to know about harvesting asparagus effectively, ensuring you enjoy plump, tender spears right from your garden.\n",
        "\n",
        "## Why Harvesting Timing Matters\n",
        "\n",
        "The timing of asparagus harvesting is crucial for both flavor and yield. Asparagus plants typically take about 18 to 24 weeks from planting to maturity, depending on the variety and growing conditions. Here's why timing is so important:\n",
        "\n",
        "### Optimal Harvest Window\n",
        "\n",
        "- **Early Season**: Asparagus harvested early in the season tends to be tender and crisp, ideal for spring dishes.\n",
        "- **Late Season**: Harvesting later can result in tougher spears due to increased maturity and potential exposure to cooler temperatures.\n",
        "\n",
        "### Seasonal Considerations\n",
        "\n",
        "- **Spring**: Ideal for fresh spring meals.\n",
        "- **Summer**: Some varieties can be harvested through summer, though they may become less tender.\n",
        "- **Fall**: Harvesting in fall can extend your asparagus season into cooler months.\n",
        "\n",
        "## Preparing Your Garden for Asparagus\n",
        "\n",
        "Before diving into harvesting, ensuring your garden is set up for optimal asparagus growth is key:\n",
        "\n",
        "### Soil Preparation\n",
        "\n",
        "- **Well-Drained Soil**: Asparagus prefers loose, well-drained soil rich in organic matter. Amend your soil with compost to improve fertility and drainage.\n",
        "- **pH Level**: Aim for a slightly acidic to neutral pH range (6.0 to 7.0).\n",
        "\n",
        "### Planting Tips\n",
        "\n",
        "- **Spacing**: Space asparagus plants about 12 to 18 inches apart to allow for proper air circulation and growth.\n",
        "- **Depth**: Plant seedlings at the same depth they were in their containers.\n",
        "\n",
        "### Watering and Maintenance\n",
        "\n",
        "- **Regular Watering**: Keep the soil consistently moist but not waterlogged. Asparagus thrives in environments with moderate moisture.\n",
        "- **Mulching**: Apply a layer of mulch around plants to retain moisture and suppress weeds.\n",
        "\n",
        "## Harvesting Techniques\n",
        "\n",
        "Mastering the art of harvesting asparagus not only ensures you get the best quality but also promotes healthy plant growth for future harvests. Here's how to do it right:\n",
        "\n",
        "### Timing Your Harvest\n",
        "\n",
        "- **Early Signs**: Look for young shoots that are about 6 inches tall with leaves that are just beginning to unfurl.\n",
        "- **Harvesting Tools**: Use sharp, clean scissors or pruning shears to avoid damaging the plant.\n",
        "\n",
        "### Harvesting Process\n",
        "\n",
        "1. **Identify the Shoots**: Locate the young shoots that are tender and free from any signs of damage or disease.\n",
        "2. **Cutting Technique**: Cut the shoots just above the soil level using your tools. Aim for a clean cut to minimize stress on the plant.\n",
        "3. **Quantity**: Harvest about 4-6 inches of asparagus per plant per season to allow room for new growth.\n",
        "\n",
        "### Post-Harvest Care\n",
        "\n",
        "- **Immediate Use**: Enjoy freshly harvested asparagus within a day or two for optimal flavor and texture.\n",
        "- **Storage**: If not using immediately, store harvested asparagus in a cool place wrapped in damp paper towels or placed in a sealed container lined with paper towels to absorb excess moisture.\n",
        "\n",
        "## Tips for Maximizing Yield\n",
        "\n",
        "To ensure a bountiful asparagus harvest, consider these additional tips:\n",
        "\n",
        "### Rotational Planting\n",
        "\n",
        "- **Succession Planting**: Plant new asparagus beds every spring to extend your harvest period.\n",
        "- **Companion Planting**: Pair asparagus with plants like carrots or onions, which can help deter pests naturally.\n",
        "\n",
        "### Disease Management\n",
        "\n",
        "- **Regular Inspection**: Keep an eye out for signs of pests like aphids or diseases like asparagus root rot.\n",
        "- **Sanitation**: Remove dead plant material promptly to prevent disease spread.\n",
        "\n",
        "### Nutrient Boosting\n",
        "\n",
        "- **Fertilizers**: Apply balanced fertilizers during the growing season to support robust growth.\n",
        "- **Organic Options**: Consider using compost teas or organic fertilizers rich in nitrogen to promote healthy foliage and spears.\n",
        "\n",
        "## Culinary Uses of Fresh Asparagus\n",
        "\n",
        "Fresh asparagus adds a vibrant touch to numerous dishes, enhancing both flavor and presentation:\n",
        "\n",
        "### Classic Dishes\n",
        "\n",
        "- **Asparagus Salad**: Combine fresh asparagus with cherry tomatoes, cucumbers, and a light vinaigrette.\n",
        "- **Grilled Asparagus**: Grill asparagus spears until tender and slightly charred for a smoky flavor.\n",
        "\n",
        "### Creative Applications\n",
        "\n",
        "- **Asparagus Risotto**: Incorporate asparagus into creamy risotto for a hearty winter meal.\n",
        "- **Asparagus Stir-Fry**: Quick stir-fry with garlic, ginger, and soy sauce for a quick weeknight dinner.\n",
        "\n",
        "## Conclusion\n",
        "\n",
        "Harvesting asparagus correctly is not just about getting the best flavor; it's about nurturing your garden sustainably and enjoying the fruits of your labor year after year. By paying attention to timing, soil health, and proper harvesting techniques, you can ensure a plentiful and delicious asparagus harvest. Whether you're a seasoned gardener or just starting out, these insights will guide you toward mastering the art of growing and harvesting asparagus, enriching both your culinary experiences and garden health.\n",
        "\n",
        "---\n",
        "\n",
        "### Additional Resources\n",
        "\n",
        "- **Books**: \"The Vegetable Gardener's Bible\" by Edward C. Smith\n",
        "- **Websites**: USDA Natural Resources Conservation Service (NRCS) for detailed gardening advice\n",
        "- **Apps**: Gardening apps like Gardenely offer tips and reminders for planting and harvesting schedules\n",
        "\n",
        "Enjoy exploring the vibrant world of asparagus cultivation and savor the rewards of your green thumb!"
      ],
      "metadata": {
        "id": "NWQ0NmS2crrL"
      }
    },
    {
      "cell_type": "code",
      "source": [],
      "metadata": {
        "trusted": true,
        "execution": {
          "iopub.status.busy": "2024-12-24T23:10:56.763738Z",
          "iopub.execute_input": "2024-12-24T23:10:56.764098Z",
          "iopub.status.idle": "2024-12-24T23:10:56.767882Z",
          "shell.execute_reply.started": "2024-12-24T23:10:56.764069Z",
          "shell.execute_reply": "2024-12-24T23:10:56.76706Z"
        },
        "id": "Ow_vnozNcrrM"
      },
      "outputs": [],
      "execution_count": null
    }
  ]
}